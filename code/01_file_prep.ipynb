{
 "cells": [
  {
   "cell_type": "code",
   "execution_count": 1,
   "id": "6c84111d-a530-40b3-876d-f673e95da184",
   "metadata": {},
   "outputs": [],
   "source": [
    "import pandas as pd\n",
    "import numpy as np"
   ]
  },
  {
   "cell_type": "markdown",
   "id": "44054c62-bacf-4eb2-87d5-79fbfa6d22a8",
   "metadata": {},
   "source": [
    "## 1. Create TMM from TPM (and count) file"
   ]
  },
  {
   "cell_type": "markdown",
   "id": "70f61229-91dc-430b-823f-05b21a598744",
   "metadata": {},
   "source": [
    "### 1.1 Collapse annotation reference\n",
    "- Need to be the same version as in RNAseq alignment. Otherwise will have a lot of missing genes\\\n",
    "- The version of reference used in alignment is genecode v26"
   ]
  },
  {
   "cell_type": "code",
   "execution_count": 15,
   "id": "dae6f224-eb45-4fc6-b715-96340a87e83f",
   "metadata": {},
   "outputs": [
    {
     "name": "stdout",
     "output_type": "stream",
     "text": [
      "Parsing GTF: 62700 genes processed\n",
      "Collapsing transcripts\n"
     ]
    },
    {
     "name": "stderr",
     "output_type": "stream",
     "text": [
      "/data100t1/home/wanying/.local/lib/python3.9/site-packages/pandas/core/computation/expressions.py:21: UserWarning: Pandas requires version '2.8.4' or newer of 'numexpr' (version '2.7.3' currently installed).\n",
      "  from pandas.core.computation.check import NUMEXPR_INSTALLED\n",
      "/data100t1/home/wanying/.local/lib/python3.9/site-packages/pandas/core/arrays/masked.py:60: UserWarning: Pandas requires version '1.3.6' or newer of 'bottleneck' (version '1.3.2' currently installed).\n",
      "  from pandas.core import (\n"
     ]
    }
   ],
   "source": [
    "%%bash\n",
    "# collapse annotation: https://github.com/broadinstitute/gtex-pipeline/tree/master/gene_model\n",
    "python 00_collapse_annotation.py /data100t1/home/wanying/CCHC/RNAseq_gtex_pipeline/GTEx_ref/gencode.v44.basic.annotation.gtf.gz \\\n",
    "/data100t1/home/wanying/CCHC/RNAseq_gtex_pipeline/GTEx_ref/gencode.v44.basic.collapsed.gtf.gz_v2"
   ]
  },
  {
   "cell_type": "markdown",
   "id": "d75033ca-5cd8-4e42-b314-327967f2de04",
   "metadata": {},
   "source": [
    "### 1.2 Create sample_participant_id_mapping.tsv\n",
    "- For eQTL mapping need to map RNAseq IDs to genotype IDs\n",
    "- For general purpose, do not mapp IDs to avoid missing IDs in the column\n",
    "    - Samples without genotype data will be labeled as na.1, na.2, etc."
   ]
  },
  {
   "cell_type": "code",
   "execution_count": 4,
   "id": "0df0e975-90f4-4ace-8a8e-ceb100fdb88a",
   "metadata": {},
   "outputs": [
    {
     "data": {
      "text/html": [
       "<div>\n",
       "<style scoped>\n",
       "    .dataframe tbody tr th:only-of-type {\n",
       "        vertical-align: middle;\n",
       "    }\n",
       "\n",
       "    .dataframe tbody tr th {\n",
       "        vertical-align: top;\n",
       "    }\n",
       "\n",
       "    .dataframe thead th {\n",
       "        text-align: right;\n",
       "    }\n",
       "</style>\n",
       "<table border=\"1\" class=\"dataframe\">\n",
       "  <thead>\n",
       "    <tr style=\"text-align: right;\">\n",
       "      <th></th>\n",
       "      <th>Name</th>\n",
       "      <th>Description</th>\n",
       "      <th>10Y0001</th>\n",
       "      <th>10Y0002</th>\n",
       "      <th>10Y0003</th>\n",
       "      <th>10Y0004</th>\n",
       "      <th>10Y0009</th>\n",
       "      <th>10Y0012</th>\n",
       "      <th>10Y0014</th>\n",
       "      <th>10Y0016</th>\n",
       "      <th>...</th>\n",
       "      <th>LA0351</th>\n",
       "      <th>LA0352</th>\n",
       "      <th>LA0380</th>\n",
       "      <th>LA0392</th>\n",
       "      <th>LA0399</th>\n",
       "      <th>LD4184</th>\n",
       "      <th>LD4190</th>\n",
       "      <th>LP0048</th>\n",
       "      <th>LP0049</th>\n",
       "      <th>LP0103</th>\n",
       "    </tr>\n",
       "  </thead>\n",
       "  <tbody>\n",
       "    <tr>\n",
       "      <th>0</th>\n",
       "      <td>ENSG00000223972.5</td>\n",
       "      <td>DDX11L1</td>\n",
       "      <td>65</td>\n",
       "      <td>36</td>\n",
       "      <td>60</td>\n",
       "      <td>30</td>\n",
       "      <td>60</td>\n",
       "      <td>23</td>\n",
       "      <td>13</td>\n",
       "      <td>29</td>\n",
       "      <td>...</td>\n",
       "      <td>130</td>\n",
       "      <td>50</td>\n",
       "      <td>28</td>\n",
       "      <td>104</td>\n",
       "      <td>69</td>\n",
       "      <td>23</td>\n",
       "      <td>26</td>\n",
       "      <td>32</td>\n",
       "      <td>29</td>\n",
       "      <td>39</td>\n",
       "    </tr>\n",
       "    <tr>\n",
       "      <th>1</th>\n",
       "      <td>ENSG00000227232.5</td>\n",
       "      <td>WASH7P</td>\n",
       "      <td>54</td>\n",
       "      <td>149</td>\n",
       "      <td>122</td>\n",
       "      <td>173</td>\n",
       "      <td>117</td>\n",
       "      <td>77</td>\n",
       "      <td>47</td>\n",
       "      <td>140</td>\n",
       "      <td>...</td>\n",
       "      <td>210</td>\n",
       "      <td>412</td>\n",
       "      <td>68</td>\n",
       "      <td>188</td>\n",
       "      <td>158</td>\n",
       "      <td>202</td>\n",
       "      <td>178</td>\n",
       "      <td>26</td>\n",
       "      <td>196</td>\n",
       "      <td>215</td>\n",
       "    </tr>\n",
       "  </tbody>\n",
       "</table>\n",
       "<p>2 rows × 2855 columns</p>\n",
       "</div>"
      ],
      "text/plain": [
       "                Name Description  10Y0001  10Y0002  10Y0003  10Y0004  10Y0009  \\\n",
       "0  ENSG00000223972.5     DDX11L1       65       36       60       30       60   \n",
       "1  ENSG00000227232.5      WASH7P       54      149      122      173      117   \n",
       "\n",
       "   10Y0012  10Y0014  10Y0016  ...  LA0351  LA0352  LA0380  LA0392  LA0399  \\\n",
       "0       23       13       29  ...     130      50      28     104      69   \n",
       "1       77       47      140  ...     210     412      68     188     158   \n",
       "\n",
       "   LD4184  LD4190  LP0048  LP0049  LP0103  \n",
       "0      23      26      32      29      39  \n",
       "1     202     178      26     196     215  \n",
       "\n",
       "[2 rows x 2855 columns]"
      ]
     },
     "metadata": {},
     "output_type": "display_data"
    },
    {
     "data": {
      "text/html": [
       "<div>\n",
       "<style scoped>\n",
       "    .dataframe tbody tr th:only-of-type {\n",
       "        vertical-align: middle;\n",
       "    }\n",
       "\n",
       "    .dataframe tbody tr th {\n",
       "        vertical-align: top;\n",
       "    }\n",
       "\n",
       "    .dataframe thead th {\n",
       "        text-align: right;\n",
       "    }\n",
       "</style>\n",
       "<table border=\"1\" class=\"dataframe\">\n",
       "  <thead>\n",
       "    <tr style=\"text-align: right;\">\n",
       "      <th></th>\n",
       "      <th>genotype_ID</th>\n",
       "      <th>RRID</th>\n",
       "      <th>LABID</th>\n",
       "      <th>batch</th>\n",
       "    </tr>\n",
       "  </thead>\n",
       "  <tbody>\n",
       "    <tr>\n",
       "      <th>0</th>\n",
       "      <td>BD0704_BD4704</td>\n",
       "      <td>BD0704</td>\n",
       "      <td>DR2032</td>\n",
       "      <td>5928JB</td>\n",
       "    </tr>\n",
       "    <tr>\n",
       "      <th>1</th>\n",
       "      <td>BD0704_BD4704</td>\n",
       "      <td>BD0704</td>\n",
       "      <td>10Y0071</td>\n",
       "      <td>5928JB</td>\n",
       "    </tr>\n",
       "  </tbody>\n",
       "</table>\n",
       "</div>"
      ],
      "text/plain": [
       "     genotype_ID    RRID    LABID   batch\n",
       "0  BD0704_BD4704  BD0704   DR2032  5928JB\n",
       "1  BD0704_BD4704  BD0704  10Y0071  5928JB"
      ]
     },
     "metadata": {},
     "output_type": "display_data"
    }
   ],
   "source": [
    "# ID mapping file between genotype ID and RNAseq ID\n",
    "fn_count = '/vgipiper04/CCHC/RNAseq/batch1_2_3_4/GTEx/expression/CCHC_batch1_2_3_4.rnaseq_count.low_quality_dropped.gct.gz'\n",
    "df_count = pd.read_csv(fn_count, sep='\\t', skiprows=2)\n",
    "display(df_count.head(2))\n",
    "\n",
    "fn_id_mapping = '/data100t1/home/wanying/CCHC/doc/samples_IDs/202309_ID_mapping_RNA_genotyping_batch1_4_all_samples.txt'\n",
    "df_id_mapping = pd.read_csv(fn_id_mapping, sep='\\t')\n",
    "display(df_id_mapping.head(2))\n",
    "\n",
    "\n",
    "output_fn = '/data100t1/home/wanying/CCHC/eQTL_gtex_pipeline/supporting_files/sample_participant_id_mapping_LABID2genotypeID.tsv'\n",
    "mask = df_id_mapping['LABID'].isin(df_count.columns)\n",
    "df_id_mapping[mask][['LABID', 'genotype_ID']].to_csv(output_fn, sep='\\t', index=False, header=False)\n",
    "\n",
    "\n",
    "# ID mapping file keep the original LABID\n",
    "output_fn = '/data100t1/home/wanying/CCHC/eQTL_gtex_pipeline/supporting_files/sample_participant_id_mapping_LABID2LABID.tsv'\n",
    "df_id_mapping[mask][['LABID', 'LABID']].to_csv(output_fn, sep='\\t', index=False, header=False)\n"
   ]
  },
  {
   "cell_type": "code",
   "execution_count": null,
   "id": "f265a93b-d52c-4784-8ea3-e37605ef5105",
   "metadata": {},
   "outputs": [],
   "source": [
    "\n"
   ]
  },
  {
   "cell_type": "markdown",
   "id": "107a5e94-943b-4603-8bcf-f4cb6fd6d0d2",
   "metadata": {},
   "source": [
    "### 1.3 Prepare expression file (TMM normalization)"
   ]
  },
  {
   "cell_type": "markdown",
   "id": "ec9ab84b-a26e-441e-b7e5-deb61cb13878",
   "metadata": {},
   "source": [
    "#### (1) Version 1: Convert RNAseq IDs to genotype IDs for eQTL mapping"
   ]
  },
  {
   "cell_type": "code",
   "execution_count": 2,
   "id": "c5ab6451-2941-44b1-93b5-fdcbb40ea2d4",
   "metadata": {
    "tags": []
   },
   "outputs": [
    {
     "name": "stdout",
     "output_type": "stream",
     "text": [
      "Loading expression data\n",
      "Normalizing data (tmm)\n",
      "  * 56200 genes in input tables.\n",
      "  * 26746 genes remain after thresholding.\n",
      "  * 26701 genes remain after selecting chromosomes.\n",
      "Writing BED file\n"
     ]
    },
    {
     "name": "stderr",
     "output_type": "stream",
     "text": [
      "/data100t1/home/wanying/lab_code/gtex-pipeline/qtl/src/eqtl_prepare_expression.py:18: DeprecationWarning: DataFrameGroupBy.apply operated on the grouping columns. This behavior is deprecated, and in a future version of pandas the grouping columns will be excluded from the operation. Either pass `include_groups=False` to exclude the groupings or explicitly select the grouping columns after groupby to silence this warning.\n",
      "  bed_df = bed_df.groupby('chr', sort=False, group_keys=False).apply(lambda x: x.sort_values('start'))\n"
     ]
    }
   ],
   "source": [
    "%%bash\n",
    "# From GTEx RNAseq pipeline\n",
    "tpm_gct=/vgipiper04/CCHC/RNAseq/batch1_2_3_4/GTEx/expression/CCHC_batch1_2_3_4.rnaseq_tpm.low_quality_dropped.gct.gz\n",
    "counts_gct=/vgipiper04/CCHC/RNAseq/batch1_2_3_4/GTEx/expression/CCHC_batch1_2_3_4.rnaseq_count.low_quality_dropped.gct.gz\n",
    "# annotation_gtf=/data100t1/home/wanying/CCHC/RNAseq_gtex_pipeline/GTEx_ref/gencode.v44.basic.collapsed.gtf.gz\n",
    "# Annotation gtf need to be the same version as the reference used in alignment of RNAseq reads\n",
    "annotation_gtf=/data100t1/home/wanying/CCHC/RNAseq_gtex_pipeline/GTEx_ref/gencode.v26.collapsed.gtf.gz\n",
    "\n",
    "# TSV linking sample IDs (columns in expression matrices) to participant IDs (VCF IDs), without header\n",
    "sample_participant_lookup=/data100t1/home/wanying/CCHC/eQTL_gtex_pipeline/supporting_files/sample_participant_id_mapping_LABID2genotypeID.tsv\n",
    "prefix=CCHC_batch1_2_3_4_TMM.low_quality_dropped\n",
    "# vcf_chr_list not used any more\n",
    "\n",
    "code_path=/data100t1/home/wanying/lab_code/gtex-pipeline/qtl/src\n",
    "python ${code_path}/eqtl_prepare_expression.py ${tpm_gct} ${counts_gct} ${annotation_gtf} \\\n",
    "    ${sample_participant_lookup} ${prefix} \\\n",
    "    --tpm_threshold 0.1 \\\n",
    "    --count_threshold 6 \\\n",
    "    --sample_frac_threshold 0.2 \\\n",
    "    --normalization_method tmm"
   ]
  },
  {
   "cell_type": "code",
   "execution_count": null,
   "id": "aa39b8cf-3eaf-425b-ae92-1c4efc75d461",
   "metadata": {},
   "outputs": [],
   "source": []
  },
  {
   "cell_type": "markdown",
   "id": "d5b9f155-eada-49d9-830d-b44db494ad07",
   "metadata": {},
   "source": [
    "#### (2) Version 2: Keep original LABIDs"
   ]
  },
  {
   "cell_type": "code",
   "execution_count": 3,
   "id": "09927589-757b-4cde-8cab-97073ce3779d",
   "metadata": {
    "collapsed": true,
    "jupyter": {
     "outputs_hidden": true
    },
    "tags": []
   },
   "outputs": [
    {
     "name": "stdout",
     "output_type": "stream",
     "text": [
      "Loading expression data\n",
      "Normalizing data (tmm)\n",
      "  * 56200 genes in input tables.\n",
      "  * 26746 genes remain after thresholding.\n",
      "  * 26701 genes remain after selecting chromosomes.\n",
      "Writing BED file\n"
     ]
    },
    {
     "name": "stderr",
     "output_type": "stream",
     "text": [
      "/data100t1/home/wanying/lab_code/gtex-pipeline/qtl/src/eqtl_prepare_expression.py:18: DeprecationWarning: DataFrameGroupBy.apply operated on the grouping columns. This behavior is deprecated, and in a future version of pandas the grouping columns will be excluded from the operation. Either pass `include_groups=False` to exclude the groupings or explicitly select the grouping columns after groupby to silence this warning.\n",
      "  bed_df = bed_df.groupby('chr', sort=False, group_keys=False).apply(lambda x: x.sort_values('start'))\n"
     ]
    }
   ],
   "source": [
    "%%bash\n",
    "# From GTEx RNAseq pipeline\n",
    "tpm_gct=/vgipiper04/CCHC/RNAseq/batch1_2_3_4/GTEx/expression/CCHC_batch1_2_3_4.rnaseq_tpm.low_quality_dropped.gct.gz\n",
    "counts_gct=/vgipiper04/CCHC/RNAseq/batch1_2_3_4/GTEx/expression/CCHC_batch1_2_3_4.rnaseq_count.low_quality_dropped.gct.gz\n",
    "# annotation_gtf=/data100t1/home/wanying/CCHC/RNAseq_gtex_pipeline/GTEx_ref/gencode.v44.basic.collapsed.gtf.gz\n",
    "# Annotation gtf need to be the same version as the reference used in alignment of RNAseq reads\n",
    "annotation_gtf=/data100t1/home/wanying/CCHC/RNAseq_gtex_pipeline/GTEx_ref/gencode.v26.collapsed.gtf.gz\n",
    "\n",
    "\n",
    "# TSV linking sample IDs (columns in expression matrices) to participant IDs (VCF IDs), without header\n",
    "sample_participant_lookup=/data100t1/home/wanying/CCHC/eQTL_gtex_pipeline/supporting_files/sample_participant_id_mapping_LABID2LABID.tsv\n",
    "prefix=CCHC_batch1_2_3_4_TMM.LABID.low_quality_dropped\n",
    "# vcf_chr_list not used any more\n",
    "\n",
    "code_path=/data100t1/home/wanying/lab_code/gtex-pipeline/qtl/src\n",
    "python ${code_path}/eqtl_prepare_expression.py ${tpm_gct} ${counts_gct} ${annotation_gtf} \\\n",
    "    ${sample_participant_lookup} ${prefix} \\\n",
    "    --tpm_threshold 0.1 \\\n",
    "    --count_threshold 6 \\\n",
    "    --sample_frac_threshold 0.2 \\\n",
    "    --normalization_method tmm"
   ]
  },
  {
   "cell_type": "markdown",
   "id": "cda3c030-9457-4c15-839d-c0cc06eda665",
   "metadata": {},
   "source": [
    "## 2. Calculate PEERs (TBD)"
   ]
  },
  {
   "cell_type": "code",
   "execution_count": null,
   "id": "11b912a8-7edc-4eae-9598-641cbf93eb3a",
   "metadata": {},
   "outputs": [],
   "source": [
    "%%bash\n",
    "prefix=CCHC_batch1_2_3_4.low_quality_dropped\n",
    "num_peer=60\n",
    "expression=/vgipiper04/CCHC/RNAseq/batch1_2_3_4/GTEx/expression/CCHC_batch1_2_3_4_TMM.low_quality_dropped.expression.bed.gz\n",
    "\n",
    "Rscript /data100t1/home/wanying/lab_code/gtex-pipeline/qtl/src/run_PEER.R ${expression} \\\n",
    "${prefix} ${num_peer}"
   ]
  },
  {
   "cell_type": "markdown",
   "id": "331fbe3a-5da2-4447-87ed-c699be5a8c08",
   "metadata": {},
   "source": [
    "## 3. Combine covariates"
   ]
  },
  {
   "cell_type": "code",
   "execution_count": null,
   "id": "68dc637a-e34e-41a5-bc56-c304ffa92fe3",
   "metadata": {},
   "outputs": [],
   "source": [
    "# pca_fn=/data100t1/home/wanying/CCHC/doc/genotype_and_pc/202210_CCHC_PCs_id_fixed_1KG_controls_removed.txt"
   ]
  },
  {
   "cell_type": "code",
   "execution_count": null,
   "id": "3cb0d1c7-9d9f-4416-a847-7da5182bc650",
   "metadata": {},
   "outputs": [],
   "source": [
    "%%bash\n",
    "combine_covariates.py ${prefix}.PEER_covariates.txt ${prefix} \\\n",
    "    --genotype_pcs ${genotype_pcs} \\\n",
    "    --add_covariates ${add_covariates}\n",
    "\n",
    "# parser.add_argument('expression_covariates', help='')\n",
    "# parser.add_argument('prefix', help='')\n",
    "# parser.add_argument('--genotype_pcs', default=None, help='Genotype PCs')\n",
    "# parser.add_argument('--add_covariates', default=[], nargs='+', help='Additional covariates')\n",
    "# parser.add_argument('-o', '--output_dir', default='.', help='Output directory')"
   ]
  },
  {
   "cell_type": "code",
   "execution_count": null,
   "id": "032e3b0a-4dce-4a7b-9514-0fa7f33c5396",
   "metadata": {},
   "outputs": [],
   "source": []
  }
 ],
 "metadata": {
  "kernelspec": {
   "display_name": "Python 3",
   "language": "python",
   "name": "python3"
  },
  "language_info": {
   "codemirror_mode": {
    "name": "ipython",
    "version": 3
   },
   "file_extension": ".py",
   "mimetype": "text/x-python",
   "name": "python",
   "nbconvert_exporter": "python",
   "pygments_lexer": "ipython3",
   "version": "3.9.7"
  }
 },
 "nbformat": 4,
 "nbformat_minor": 5
}
